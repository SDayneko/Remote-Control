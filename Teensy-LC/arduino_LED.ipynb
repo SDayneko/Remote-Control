{
 "cells": [
  {
   "cell_type": "markdown",
   "metadata": {},
   "source": [
    "### Cell 0: List Available Serial Ports"
   ]
  },
  {
   "cell_type": "code",
   "execution_count": 8,
   "metadata": {},
   "outputs": [
    {
     "name": "stdout",
     "output_type": "stream",
     "text": [
      "/dev/cu.Bluetooth-Incoming-Port: n/a [n/a]\n",
      "/dev/cu.usbmodem105909901: USB Serial [USB VID:PID=16C0:0483 SER=10590990 LOCATION=0-1.1]\n"
     ]
    }
   ],
   "source": [
    "import serial.tools.list_ports\n",
    "\n",
    "def list_serial_ports():\n",
    "    ports = serial.tools.list_ports.comports()\n",
    "    for port, desc, hwid in sorted(ports):\n",
    "        print(f\"{port}: {desc} [{hwid}]\")\n",
    "\n",
    "# Call the function to list available serial ports\n",
    "list_serial_ports()"
   ]
  },
  {
   "cell_type": "markdown",
   "metadata": {},
   "source": [
    "### Cell 1: Import Libraries and Initialize Serial Connection"
   ]
  },
  {
   "cell_type": "code",
   "execution_count": 9,
   "metadata": {},
   "outputs": [],
   "source": [
    "import time\n",
    "import serial\n",
    "\n",
    "# Replace '/dev/cu.usbmodem105909901' with the identified port\n",
    "port = '/dev/cu.usbmodem105909901'\n",
    "baud_rate = 9600\n",
    "\n",
    "try:\n",
    "    ser = serial.Serial(port, baud_rate, timeout=1)\n",
    "    time.sleep(2)  # wait for the serial connection to initialize\n",
    "except serial.SerialException as e:\n",
    "    print(f\"Could not open serial port: {e}\")\n",
    "    exit(1)\n",
    "\n",
    "def led_on():\n",
    "    ser.write(b'1')\n",
    "\n",
    "def led_off():\n",
    "    ser.write(b'0')\n"
   ]
  },
  {
   "cell_type": "markdown",
   "metadata": {},
   "source": [
    "### Cell 2: Get User Input for Repeat Count and Duration"
   ]
  },
  {
   "cell_type": "code",
   "execution_count": 10,
   "metadata": {},
   "outputs": [],
   "source": [
    "repeat_count = int(input(\"Enter the number of times to repeat the LED on/off cycle: \"))\n",
    "duration = float(input(\"Enter the duration (in seconds) for each LED state (on/off): \"))"
   ]
  },
  {
   "cell_type": "markdown",
   "metadata": {},
   "source": [
    "### Cell 3: Execute the LED Control Loop"
   ]
  },
  {
   "cell_type": "code",
   "execution_count": 11,
   "metadata": {},
   "outputs": [
    {
     "name": "stdout",
     "output_type": "stream",
     "text": [
      "LED on\n",
      "LED off\n",
      "LED on\n",
      "LED off\n",
      "LED on\n",
      "LED off\n",
      "LED on\n",
      "LED off\n",
      "LED on\n",
      "LED off\n",
      "LED on\n",
      "LED off\n",
      "LED on\n",
      "LED off\n",
      "LED on\n",
      "LED off\n",
      "LED on\n",
      "LED off\n",
      "LED on\n",
      "LED off\n",
      "Program terminated\n"
     ]
    }
   ],
   "source": [
    "try:\n",
    "    for _ in range(repeat_count):\n",
    "        led_on()\n",
    "        print(\"LED on\")\n",
    "        time.sleep(duration)\n",
    "        led_off()\n",
    "        print(\"LED off\")\n",
    "        time.sleep(duration)\n",
    "except KeyboardInterrupt:\n",
    "    pass\n",
    "finally:\n",
    "    ser.close()\n",
    "    print(\"Program terminated\")"
   ]
  },
  {
   "cell_type": "code",
   "execution_count": null,
   "metadata": {},
   "outputs": [],
   "source": []
  }
 ],
 "metadata": {
  "kernelspec": {
   "display_name": "env",
   "language": "python",
   "name": "python3"
  },
  "language_info": {
   "codemirror_mode": {
    "name": "ipython",
    "version": 3
   },
   "file_extension": ".py",
   "mimetype": "text/x-python",
   "name": "python",
   "nbconvert_exporter": "python",
   "pygments_lexer": "ipython3",
   "version": "3.12.3"
  }
 },
 "nbformat": 4,
 "nbformat_minor": 2
}
